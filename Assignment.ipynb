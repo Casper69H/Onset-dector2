{
 "cells": [
  {
   "cell_type": "markdown",
   "id": "d57668d9",
   "metadata": {},
   "source": [
    "## Assignment 2 \n",
    "\n",
    "### Onset Detector \n",
    "\n",
    "Sometimes its useful to find where events in a musical file occurred, these are often called **onsets**. \n",
    "\n",
    "They are often characterised by a **peak in the signal** of the audio. \n",
    "\n",
    "The simplest approach would be to record every sample above a given threshold as a new onset.\n",
    "\n",
    "However, these **onsets** and their peaks often occur over a length of time, and so the signal may be above a chosen threshold for a number of samples, but we want to identify these as **a single event**. \n",
    "\n",
    "As we step through the signal (sample by sample), there are a number of rules we can apply to determine if something is a **new onset** \n",
    "\n",
    "### The Algorithm\n",
    "\n",
    "\n",
    "1. Is the sample value larger than any of the values surrounding it (+ / - a ``window_size``)?\n",
    "\n",
    "\n",
    "2. Is the sample value larger than the average of all the values surrounding it (+ / - a ``window_size``)?\n",
    "\n",
    "\n",
    "3. Have we had a onset recently (within a given ``wait_time``)?\n",
    "\n",
    "\n",
    "### Task 1\n",
    "\n",
    "Code an onset detector using the algorithm described above. We have provided a template of an approach you might like to take below. \n",
    "\n",
    "We want to save the onsets as we go (the sample location and the value) and then plot them on the **same plot as the original waveform**\n",
    "\n",
    "The result should look like this (with the audio data in blue and onsets in orange).\n",
    "\n",
    "There are libraries that will find onsets for you, but we would like you to this yourself implementing the algorithm described!"
   ]
  },
  {
   "cell_type": "code",
   "execution_count": 2,
   "id": "421012b2",
   "metadata": {},
   "outputs": [
    {
     "name": "stderr",
     "output_type": "stream",
     "text": [
      "C:\\APP\\Anaconda\\lib\\site-packages\\paramiko\\transport.py:219: CryptographyDeprecationWarning: Blowfish has been deprecated\n",
      "  \"class\": algorithms.Blowfish,\n"
     ]
    }
   ],
   "source": [
    "\n",
    "import librosa\n",
    "import numpy as np\n",
    "import matplotlib.pyplot as plt\n",
    "\n",
    "\n",
    "audio_data, sr = librosa.load('C:/Users/廖周航/mycode/audio_drums0.wav')\n",
    "\n",
    "window_size = 2048\n",
    "wait_time = 1024\n",
    "\n",
    "\n",
    "## for every sample (careful to account for window size at the beginning and end)\n",
    "\n",
    "    ## if biggest sample value in surrounding area AND\n",
    "        \n",
    "    ## if sample value bigger than mean of surrounding area AND\n",
    "        \n",
    "    ## if we haven't had an onset recently THEN\n",
    "            \n",
    "        ## record time and sample value for plotting later\n",
    "                \n",
    "                \n",
    "## plot audio file\n",
    "\n",
    "## plot onset times and values on same plot"
   ]
  },
  {
   "cell_type": "code",
   "execution_count": null,
   "id": "9313ec42",
   "metadata": {},
   "outputs": [],
   "source": []
  }
 ],
 "metadata": {
  "kernelspec": {
   "display_name": "Python 3 (ipykernel)",
   "language": "python",
   "name": "python3"
  },
  "language_info": {
   "codemirror_mode": {
    "name": "ipython",
    "version": 3
   },
   "file_extension": ".py",
   "mimetype": "text/x-python",
   "name": "python",
   "nbconvert_exporter": "python",
   "pygments_lexer": "ipython3",
   "version": "3.9.13"
  }
 },
 "nbformat": 4,
 "nbformat_minor": 5
}
